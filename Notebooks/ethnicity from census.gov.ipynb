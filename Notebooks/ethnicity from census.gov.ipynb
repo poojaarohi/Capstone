{
 "cells": [
  {
   "cell_type": "code",
   "execution_count": 43,
   "id": "2c99462f",
   "metadata": {},
   "outputs": [],
   "source": [
    "import pandas as pd \n",
    "import requests"
   ]
  },
  {
   "cell_type": "code",
   "execution_count": 44,
   "id": "d1830724",
   "metadata": {},
   "outputs": [],
   "source": [
    "api_key = '0a9aec2e34a43158fc4e49a163cfbb60f7b93a97'"
   ]
  },
  {
   "cell_type": "markdown",
   "id": "459c01bc",
   "metadata": {},
   "source": [
    "### Data for Insurance coverage /ethnicity in TN/Data was not available for each county."
   ]
  },
  {
   "cell_type": "code",
   "execution_count": 50,
   "id": "8ca27bfd",
   "metadata": {},
   "outputs": [
    {
     "ename": "JSONDecodeError",
     "evalue": "Expecting value: line 1 column 1 (char 0)",
     "output_type": "error",
     "traceback": [
      "\u001b[1;31m---------------------------------------------------------------------------\u001b[0m",
      "\u001b[1;31mJSONDecodeError\u001b[0m                           Traceback (most recent call last)",
      "\u001b[1;32m<ipython-input-50-4e9d1fd7e7b9>\u001b[0m in \u001b[0;36m<module>\u001b[1;34m\u001b[0m\n\u001b[0;32m      9\u001b[0m     \u001b[1;31m##print(year)\u001b[0m\u001b[1;33m\u001b[0m\u001b[1;33m\u001b[0m\u001b[1;33m\u001b[0m\u001b[0m\n\u001b[0;32m     10\u001b[0m     \u001b[1;31m##print(response.content)\u001b[0m\u001b[1;33m\u001b[0m\u001b[1;33m\u001b[0m\u001b[1;33m\u001b[0m\u001b[0m\n\u001b[1;32m---> 11\u001b[1;33m     \u001b[0mres\u001b[0m\u001b[1;33m=\u001b[0m\u001b[0mresponse\u001b[0m\u001b[1;33m.\u001b[0m\u001b[0mjson\u001b[0m\u001b[1;33m(\u001b[0m\u001b[1;33m)\u001b[0m\u001b[1;33m\u001b[0m\u001b[1;33m\u001b[0m\u001b[0m\n\u001b[0m\u001b[0;32m     12\u001b[0m     \u001b[0mres\u001b[0m\u001b[1;33m=\u001b[0m\u001b[0mpd\u001b[0m\u001b[1;33m.\u001b[0m\u001b[0mDataFrame\u001b[0m\u001b[1;33m(\u001b[0m\u001b[0mdata\u001b[0m\u001b[1;33m=\u001b[0m\u001b[0mres\u001b[0m\u001b[1;33m)\u001b[0m\u001b[1;33m\u001b[0m\u001b[1;33m\u001b[0m\u001b[0m\n\u001b[0;32m     13\u001b[0m     \u001b[0mlist_year\u001b[0m\u001b[1;33m.\u001b[0m\u001b[0mappend\u001b[0m\u001b[1;33m(\u001b[0m\u001b[0mres\u001b[0m\u001b[1;33m)\u001b[0m\u001b[1;33m\u001b[0m\u001b[1;33m\u001b[0m\u001b[0m\n",
      "\u001b[1;32m~\\anaconda3\\lib\\site-packages\\requests\\models.py\u001b[0m in \u001b[0;36mjson\u001b[1;34m(self, **kwargs)\u001b[0m\n\u001b[0;32m    898\u001b[0m                     \u001b[1;31m# used.\u001b[0m\u001b[1;33m\u001b[0m\u001b[1;33m\u001b[0m\u001b[1;33m\u001b[0m\u001b[0m\n\u001b[0;32m    899\u001b[0m                     \u001b[1;32mpass\u001b[0m\u001b[1;33m\u001b[0m\u001b[1;33m\u001b[0m\u001b[0m\n\u001b[1;32m--> 900\u001b[1;33m         \u001b[1;32mreturn\u001b[0m \u001b[0mcomplexjson\u001b[0m\u001b[1;33m.\u001b[0m\u001b[0mloads\u001b[0m\u001b[1;33m(\u001b[0m\u001b[0mself\u001b[0m\u001b[1;33m.\u001b[0m\u001b[0mtext\u001b[0m\u001b[1;33m,\u001b[0m \u001b[1;33m**\u001b[0m\u001b[0mkwargs\u001b[0m\u001b[1;33m)\u001b[0m\u001b[1;33m\u001b[0m\u001b[1;33m\u001b[0m\u001b[0m\n\u001b[0m\u001b[0;32m    901\u001b[0m \u001b[1;33m\u001b[0m\u001b[0m\n\u001b[0;32m    902\u001b[0m     \u001b[1;33m@\u001b[0m\u001b[0mproperty\u001b[0m\u001b[1;33m\u001b[0m\u001b[1;33m\u001b[0m\u001b[0m\n",
      "\u001b[1;32m~\\anaconda3\\lib\\json\\__init__.py\u001b[0m in \u001b[0;36mloads\u001b[1;34m(s, cls, object_hook, parse_float, parse_int, parse_constant, object_pairs_hook, **kw)\u001b[0m\n\u001b[0;32m    355\u001b[0m             \u001b[0mparse_int\u001b[0m \u001b[1;32mis\u001b[0m \u001b[1;32mNone\u001b[0m \u001b[1;32mand\u001b[0m \u001b[0mparse_float\u001b[0m \u001b[1;32mis\u001b[0m \u001b[1;32mNone\u001b[0m \u001b[1;32mand\u001b[0m\u001b[1;33m\u001b[0m\u001b[1;33m\u001b[0m\u001b[0m\n\u001b[0;32m    356\u001b[0m             parse_constant is None and object_pairs_hook is None and not kw):\n\u001b[1;32m--> 357\u001b[1;33m         \u001b[1;32mreturn\u001b[0m \u001b[0m_default_decoder\u001b[0m\u001b[1;33m.\u001b[0m\u001b[0mdecode\u001b[0m\u001b[1;33m(\u001b[0m\u001b[0ms\u001b[0m\u001b[1;33m)\u001b[0m\u001b[1;33m\u001b[0m\u001b[1;33m\u001b[0m\u001b[0m\n\u001b[0m\u001b[0;32m    358\u001b[0m     \u001b[1;32mif\u001b[0m \u001b[0mcls\u001b[0m \u001b[1;32mis\u001b[0m \u001b[1;32mNone\u001b[0m\u001b[1;33m:\u001b[0m\u001b[1;33m\u001b[0m\u001b[1;33m\u001b[0m\u001b[0m\n\u001b[0;32m    359\u001b[0m         \u001b[0mcls\u001b[0m \u001b[1;33m=\u001b[0m \u001b[0mJSONDecoder\u001b[0m\u001b[1;33m\u001b[0m\u001b[1;33m\u001b[0m\u001b[0m\n",
      "\u001b[1;32m~\\anaconda3\\lib\\json\\decoder.py\u001b[0m in \u001b[0;36mdecode\u001b[1;34m(self, s, _w)\u001b[0m\n\u001b[0;32m    335\u001b[0m \u001b[1;33m\u001b[0m\u001b[0m\n\u001b[0;32m    336\u001b[0m         \"\"\"\n\u001b[1;32m--> 337\u001b[1;33m         \u001b[0mobj\u001b[0m\u001b[1;33m,\u001b[0m \u001b[0mend\u001b[0m \u001b[1;33m=\u001b[0m \u001b[0mself\u001b[0m\u001b[1;33m.\u001b[0m\u001b[0mraw_decode\u001b[0m\u001b[1;33m(\u001b[0m\u001b[0ms\u001b[0m\u001b[1;33m,\u001b[0m \u001b[0midx\u001b[0m\u001b[1;33m=\u001b[0m\u001b[0m_w\u001b[0m\u001b[1;33m(\u001b[0m\u001b[0ms\u001b[0m\u001b[1;33m,\u001b[0m \u001b[1;36m0\u001b[0m\u001b[1;33m)\u001b[0m\u001b[1;33m.\u001b[0m\u001b[0mend\u001b[0m\u001b[1;33m(\u001b[0m\u001b[1;33m)\u001b[0m\u001b[1;33m)\u001b[0m\u001b[1;33m\u001b[0m\u001b[1;33m\u001b[0m\u001b[0m\n\u001b[0m\u001b[0;32m    338\u001b[0m         \u001b[0mend\u001b[0m \u001b[1;33m=\u001b[0m \u001b[0m_w\u001b[0m\u001b[1;33m(\u001b[0m\u001b[0ms\u001b[0m\u001b[1;33m,\u001b[0m \u001b[0mend\u001b[0m\u001b[1;33m)\u001b[0m\u001b[1;33m.\u001b[0m\u001b[0mend\u001b[0m\u001b[1;33m(\u001b[0m\u001b[1;33m)\u001b[0m\u001b[1;33m\u001b[0m\u001b[1;33m\u001b[0m\u001b[0m\n\u001b[0;32m    339\u001b[0m         \u001b[1;32mif\u001b[0m \u001b[0mend\u001b[0m \u001b[1;33m!=\u001b[0m \u001b[0mlen\u001b[0m\u001b[1;33m(\u001b[0m\u001b[0ms\u001b[0m\u001b[1;33m)\u001b[0m\u001b[1;33m:\u001b[0m\u001b[1;33m\u001b[0m\u001b[1;33m\u001b[0m\u001b[0m\n",
      "\u001b[1;32m~\\anaconda3\\lib\\json\\decoder.py\u001b[0m in \u001b[0;36mraw_decode\u001b[1;34m(self, s, idx)\u001b[0m\n\u001b[0;32m    353\u001b[0m             \u001b[0mobj\u001b[0m\u001b[1;33m,\u001b[0m \u001b[0mend\u001b[0m \u001b[1;33m=\u001b[0m \u001b[0mself\u001b[0m\u001b[1;33m.\u001b[0m\u001b[0mscan_once\u001b[0m\u001b[1;33m(\u001b[0m\u001b[0ms\u001b[0m\u001b[1;33m,\u001b[0m \u001b[0midx\u001b[0m\u001b[1;33m)\u001b[0m\u001b[1;33m\u001b[0m\u001b[1;33m\u001b[0m\u001b[0m\n\u001b[0;32m    354\u001b[0m         \u001b[1;32mexcept\u001b[0m \u001b[0mStopIteration\u001b[0m \u001b[1;32mas\u001b[0m \u001b[0merr\u001b[0m\u001b[1;33m:\u001b[0m\u001b[1;33m\u001b[0m\u001b[1;33m\u001b[0m\u001b[0m\n\u001b[1;32m--> 355\u001b[1;33m             \u001b[1;32mraise\u001b[0m \u001b[0mJSONDecodeError\u001b[0m\u001b[1;33m(\u001b[0m\u001b[1;34m\"Expecting value\"\u001b[0m\u001b[1;33m,\u001b[0m \u001b[0ms\u001b[0m\u001b[1;33m,\u001b[0m \u001b[0merr\u001b[0m\u001b[1;33m.\u001b[0m\u001b[0mvalue\u001b[0m\u001b[1;33m)\u001b[0m \u001b[1;32mfrom\u001b[0m \u001b[1;32mNone\u001b[0m\u001b[1;33m\u001b[0m\u001b[1;33m\u001b[0m\u001b[0m\n\u001b[0m\u001b[0;32m    356\u001b[0m         \u001b[1;32mreturn\u001b[0m \u001b[0mobj\u001b[0m\u001b[1;33m,\u001b[0m \u001b[0mend\u001b[0m\u001b[1;33m\u001b[0m\u001b[1;33m\u001b[0m\u001b[0m\n",
      "\u001b[1;31mJSONDecodeError\u001b[0m: Expecting value: line 1 column 1 (char 0)"
     ]
    }
   ],
   "source": [
    "### RACE,\"RACE_CAT\",county data for TN from 2010-2019\n",
    "\n",
    "list_year = []\n",
    "\n",
    "for year in range(2010,2020) :\n",
    "    endpoint = 'https://api.census.gov/data/timeseries/healthins/sahie?get=NUI_PT,RACECAT,RACE_DESC,NAME&for=state:47&time=' + str(year)\n",
    "    params ={}\n",
    "    response = requests.get(endpoint, params = params)\n",
    "    ##print(year)\n",
    "    ##print(response.content)\n",
    "    res=response.json()\n",
    "    res=pd.DataFrame(data=res)\n",
    "    list_year.append(res)\n",
    "    "
   ]
  },
  {
   "cell_type": "code",
   "execution_count": 47,
   "id": "b5dc5f90",
   "metadata": {
    "scrolled": false
   },
   "outputs": [
    {
     "name": "stdout",
     "output_type": "stream",
     "text": [
      "[        0        1                          2          3     4      5\n",
      "0  NUI_PT  RACECAT                  RACE_DESC       NAME  time  state\n",
      "1  888747        0                  All Races  Tennessee  2010     47\n",
      "2  567987        1  White alone, not Hispanic  Tennessee  2010     47\n",
      "3  176101        2  Black alone, not Hispanic  Tennessee  2010     47\n",
      "4  109731        3        Hispanic (any race)  Tennessee  2010     47,         0        1                          2          3     4      5\n",
      "0  NUI_PT  RACECAT                  RACE_DESC       NAME  time  state\n",
      "1  918356        0                  All Races  Tennessee  2011     47\n",
      "2  585278        1  White alone, not Hispanic  Tennessee  2011     47\n",
      "3  182145        2  Black alone, not Hispanic  Tennessee  2011     47\n",
      "4  113868        3        Hispanic (any race)  Tennessee  2011     47,         0        1                          2          3     4      5\n",
      "0  NUI_PT  RACECAT                  RACE_DESC       NAME  time  state\n",
      "1  875361        0                  All Races  Tennessee  2012     47\n",
      "2  560642        1  White alone, not Hispanic  Tennessee  2012     47\n",
      "3  169474        2  Black alone, not Hispanic  Tennessee  2012     47\n",
      "4  109530        3        Hispanic (any race)  Tennessee  2012     47,         0        1                          2          3     4      5\n",
      "0  NUI_PT  RACECAT                  RACE_DESC       NAME  time  state\n",
      "1  878198        0                  All Races  Tennessee  2013     47\n",
      "2  558423        1  White alone, not Hispanic  Tennessee  2013     47\n",
      "3  172595        2  Black alone, not Hispanic  Tennessee  2013     47\n",
      "4  111587        3        Hispanic (any race)  Tennessee  2013     47,         0        1                          2          3     4      5\n",
      "0  NUI_PT  RACECAT                  RACE_DESC       NAME  time  state\n",
      "1  765026        0                  All Races  Tennessee  2014     47\n",
      "2  483672        1  White alone, not Hispanic  Tennessee  2014     47\n",
      "3  144654        2  Black alone, not Hispanic  Tennessee  2014     47\n",
      "4  104340        3        Hispanic (any race)  Tennessee  2014     47,         0        1                          2          3     4      5\n",
      "0  NUI_PT  RACECAT                  RACE_DESC       NAME  time  state\n",
      "1  656235        0                  All Races  Tennessee  2015     47\n",
      "2  399132        1  White alone, not Hispanic  Tennessee  2015     47\n",
      "3  133157        2  Black alone, not Hispanic  Tennessee  2015     47\n",
      "4   97735        3        Hispanic (any race)  Tennessee  2015     47,         0        1                          2          3     4      5\n",
      "0  NUI_PT  RACECAT                  RACE_DESC       NAME  time  state\n",
      "1  581927        0                  All Races  Tennessee  2016     47\n",
      "2  353437        1  White alone, not Hispanic  Tennessee  2016     47\n",
      "3  111242        2  Black alone, not Hispanic  Tennessee  2016     47\n",
      "4   93136        3        Hispanic (any race)  Tennessee  2016     47,         0        1                          2          3     4      5\n",
      "0  NUI_PT  RACECAT                  RACE_DESC       NAME  time  state\n",
      "1  621332        0                  All Races  Tennessee  2017     47\n",
      "2  382634        1  White alone, not Hispanic  Tennessee  2017     47\n",
      "3  116332        2  Black alone, not Hispanic  Tennessee  2017     47\n",
      "4   96492        3        Hispanic (any race)  Tennessee  2017     47,         0        1                          2          3     4      5\n",
      "0  NUI_PT  RACECAT                  RACE_DESC       NAME  time  state\n",
      "1  662260        0                  All Races  Tennessee  2018     47\n",
      "2  403122        1  White alone, not Hispanic  Tennessee  2018     47\n",
      "3  130362        2  Black alone, not Hispanic  Tennessee  2018     47\n",
      "4  101424        3        Hispanic (any race)  Tennessee  2018     47,         0        1                          2          3     4      5\n",
      "0  NUI_PT  RACECAT                  RACE_DESC       NAME  time  state\n",
      "1  669850        0                  All Races  Tennessee  2019     47\n",
      "2  401910        1  White alone, not Hispanic  Tennessee  2019     47\n",
      "3  125018        2  Black alone, not Hispanic  Tennessee  2019     47\n",
      "4  114257        3        Hispanic (any race)  Tennessee  2019     47]\n"
     ]
    }
   ],
   "source": [
    "print(list_year)"
   ]
  },
  {
   "cell_type": "code",
   "execution_count": null,
   "id": "baa72615",
   "metadata": {},
   "outputs": [],
   "source": [
    "ethnicity = pd.DataFrame()\n",
    "for index in range(0,10):\n",
    "    ethnicity =  pd.concat([ethnicity,list_year[index]],axis=0)\n"
   ]
  },
  {
   "cell_type": "code",
   "execution_count": 49,
   "id": "60c487db",
   "metadata": {},
   "outputs": [],
   "source": [
    "##ethnicity.to_csv('TN_ethnicity_uninsured_data.csv')"
   ]
  },
  {
   "cell_type": "code",
   "execution_count": null,
   "id": "e27f5dbc",
   "metadata": {},
   "outputs": [],
   "source": []
  }
 ],
 "metadata": {
  "kernelspec": {
   "display_name": "Python 3",
   "language": "python",
   "name": "python3"
  },
  "language_info": {
   "codemirror_mode": {
    "name": "ipython",
    "version": 3
   },
   "file_extension": ".py",
   "mimetype": "text/x-python",
   "name": "python",
   "nbconvert_exporter": "python",
   "pygments_lexer": "ipython3",
   "version": "3.8.8"
  }
 },
 "nbformat": 4,
 "nbformat_minor": 5
}
